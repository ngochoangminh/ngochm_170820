{
 "cells": [
  {
   "cell_type": "code",
   "execution_count": null,
   "metadata": {},
   "outputs": [],
   "source": [
    "a = '123456789'\n",
    "b = []\n",
    "for i in a:\n",
    "    b.append(i)\n",
    "for i in range(9):\n",
    "    for j in range(9):\n",
    "        if (j!=i)and(j!=(i+1)):\n",
    "            if i < 8:\n",
    "                res = int(b[i]+b[i+1]) - int(b[j])\n",
    "                strs = b[i]+b[i+1]+' - '+b[j]\n",
    "            for k in range(9):\n",
    "                if (k!=i )and(k!=(i+1))and(k!=j):\n",
    "                    res = res + int(b[k])\n",
    "                    strs = strs+' + '+b[k]\n",
    "            if res == 100:\n",
    "                print(strs+' =',res)\n",
    "                break\n",
    "            else:\n",
    "                res = 0\n",
    "                strs=''"
   ]
  },
  {
   "cell_type": "code",
   "execution_count": null,
   "metadata": {},
   "outputs": [],
   "source": [
    "# y chan\n",
    "import math\n",
    "y = 272\n",
    "x = 21\n",
    "z = y//x\n",
    "if math.log2(z)%1==0:\n",
    "    print('so buoc nho nhat la:', int(math.log2(z)))\n",
    "elif z<2:\n",
    "    i = 1\n",
    "    while ((x-i)*2) < y:\n",
    "        i= i+1\n",
    "    print('so buoc nho nhat la: ',i+1)\n",
    "elif z>2:\n",
    "    k = math.log2(z)//1\n",
    "    if y%(2**k)==0:\n",
    "        if y/(2**k)<x: \n",
    "            i = 1\n",
    "            while y/(2**k)<(x-i):\n",
    "                i = i+1\n",
    "            print('so buoc nho nhat la: ',i+1+k)\n",
    "        else:\n",
    "            j = 1\n",
    "            while True:\n",
    "                if (y/(2**(k+j)))<x:\n",
    "                    break\n",
    "                j = j+1\n",
    "            i = 1\n",
    "            while True:\n",
    "                if y/(2**(k+j))==(x-i):\n",
    "                    break\n",
    "                i = i+1\n",
    "            print('so buoc nho nhat la: ',int(i+k+j))\n",
    "            \n",
    "    else:\n",
    "        print('Y Error!')"
   ]
  },
  {
   "cell_type": "code",
   "execution_count": null,
   "metadata": {},
   "outputs": [],
   "source": []
  }
 ],
 "metadata": {
  "kernelspec": {
   "display_name": "Python 3",
   "language": "python",
   "name": "python3"
  },
  "language_info": {
   "codemirror_mode": {
    "name": "ipython",
    "version": 3
   },
   "file_extension": ".py",
   "mimetype": "text/x-python",
   "name": "python",
   "nbconvert_exporter": "python",
   "pygments_lexer": "ipython3",
   "version": "3.6.10"
  }
 },
 "nbformat": 4,
 "nbformat_minor": 4
}
